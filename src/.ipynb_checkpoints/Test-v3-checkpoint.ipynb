{
 "cells": [
  {
   "cell_type": "code",
   "execution_count": 21,
   "metadata": {
    "collapsed": true
   },
   "outputs": [],
   "source": [
    "import sys\n",
    "import os                           # for os interface\n",
    "import csv\n",
    "import math\n",
    "import pickle                       # for full-precision data storage\n",
    "import numpy as np\n",
    "import pandas as pd\n",
    "import matplotlib.mlab as mlab\n",
    "import matplotlib.pyplot as plt\n",
    "from collections import OrderedDict, defaultdict  # append list to disc\n",
    "import timeit"
   ]
  },
  {
   "cell_type": "code",
   "execution_count": 22,
   "metadata": {
    "collapsed": true
   },
   "outputs": [],
   "source": [
    "data_file = '../input/indiv18/itcont.txt'\n",
    "test_data = '../input/indiv18/test_data.txt'\n",
    "header_file = '../input/indiv_header_file.csv'"
   ]
  },
  {
   "cell_type": "code",
   "execution_count": 23,
   "metadata": {
    "collapsed": true
   },
   "outputs": [],
   "source": [
    "# read header line\n",
    "indiv_header=[]\n",
    "with open(header_file) as f:\n",
    "    for line in f:\n",
    "        header_ele=[ele.strip() for ele in line.split(',') ]\n",
    "        indiv_header.extend(header_ele) # use extend instead of append"
   ]
  },
  {
   "cell_type": "code",
   "execution_count": 24,
   "metadata": {
    "collapsed": true
   },
   "outputs": [],
   "source": [
    "dataset_raw = pd.read_csv(test_data,delimiter='|',\\\n",
    "                      names=indiv_header,keep_default_na=False,dtype=str)"
   ]
  },
  {
   "cell_type": "code",
   "execution_count": 103,
   "metadata": {},
   "outputs": [
    {
     "name": "stdout",
     "output_type": "stream",
     "text": [
      "0.005588578998867888\n"
     ]
    }
   ],
   "source": [
    "start_time = timeit.default_timer()\n",
    "# keep columns of interest\n",
    "dataset_valid=pd.DataFrame()\n",
    "dataset_valid=dataset_raw.drop(['AMNDT_IND', 'RPT_TP','TRANSACTION_PGI',\\\n",
    "              'IMAGE_NUM','TRANSACTION_TP','ENTITY_TP',\\\n",
    "              'CITY','STATE','EMPLOYER','OCCUPATION','TRAN_ID',\n",
    "              'FILE_NUM','MEMO_CD','MEMO_TEXT','SUB_ID'], axis=1)\n",
    "\n",
    "dataset_valid=dataset_valid[dataset_valid['OTHER_ID'].notnull()]\n",
    "dataset_valid=dataset_valid[dataset_valid.notnull()]\n",
    "elapsed = timeit.default_timer() - start_time\n",
    "print (elapsed)"
   ]
  },
  {
   "cell_type": "code",
   "execution_count": 114,
   "metadata": {},
   "outputs": [
    {
     "name": "stdout",
     "output_type": "stream",
     "text": [
      "0.006764495999959763\n"
     ]
    }
   ],
   "source": [
    "start_time = timeit.default_timer()\n",
    "# take the first five characters of 'ZIP_CODE'\n",
    "# dataset_valid['ZIP_CODE']=dataset_valid['ZIP_CODE'].astype(str).str[0:5]\n",
    "# 'ZIP_CODE' is valid only when the resulting string length is 5\n",
    "dataset_valid=dataset_valid[dataset_valid['ZIP_CODE'].str.len()>=5]\n",
    "\n",
    "# take integer in 'TRANSACTION_AMT'\n",
    "dataset_valid['TRANSACTION_AMT']=dataset_valid['TRANSACTION_AMT'].astype(int)\n",
    "# 'TRANSACTION_AMT' is valid only when > 0\n",
    "dataset_valid=dataset_valid[dataset_valid['TRANSACTION_AMT']>5]\n",
    "\n",
    "# first : Mark duplicates as True except for the first occurrence.\n",
    "dataset_repeat=dataset_valid[dataset_valid.duplicated\\\n",
    "                             (['NAME','ZIP_CODE'],keep='first')]\n",
    "\n",
    "elapsed = timeit.default_timer() - start_time\n",
    "print (elapsed)"
   ]
  },
  {
   "cell_type": "code",
   "execution_count": 115,
   "metadata": {},
   "outputs": [
    {
     "data": {
      "text/plain": [
       "CMTE_ID                  C00394973\n",
       "NAME               CAFARO, CAPRI S\n",
       "ZIP_CODE                     44425\n",
       "TRANSACTION_DT            01102017\n",
       "TRANSACTION_AMT                396\n",
       "OTHER_ID                 H4OH14094\n",
       "Name: 109, dtype: object"
      ]
     },
     "execution_count": 115,
     "metadata": {},
     "output_type": "execute_result"
    }
   ],
   "source": [
    "dataset_repeat.iloc[0]"
   ]
  },
  {
   "cell_type": "code",
   "execution_count": 116,
   "metadata": {},
   "outputs": [
    {
     "name": "stdout",
     "output_type": "stream",
     "text": [
      "0.0042317830011597835\n"
     ]
    }
   ],
   "source": [
    "start_time = timeit.default_timer()\n",
    "dataset_arrange=pd.DataFrame()\n",
    "dataset_arrange['Identity'] = dataset_repeat['CMTE_ID'] + dataset_repeat.ZIP_CODE.str[0:5] + dataset_repeat.TRANSACTION_DT.str[-4:]\n",
    "dataset_arrange['TRANS_AMT'] = dataset_repeat.TRANSACTION_AMT\n",
    "dataset_arrange['index1'] = dataset_arrange.index\n",
    "elapsed = timeit.default_timer() - start_time\n",
    "print (elapsed)"
   ]
  },
  {
   "cell_type": "code",
   "execution_count": 60,
   "metadata": {},
   "outputs": [
    {
     "data": {
      "text/plain": [
       "Identity     C00104083170502017\n",
       "TRANS_AMT                   190\n",
       "index1                      124\n",
       "Name: 124, dtype: object"
      ]
     },
     "execution_count": 60,
     "metadata": {},
     "output_type": "execute_result"
    }
   ],
   "source": [
    "dataset_arrange.iloc[0]"
   ]
  },
  {
   "cell_type": "code",
   "execution_count": 117,
   "metadata": {},
   "outputs": [
    {
     "name": "stdout",
     "output_type": "stream",
     "text": [
      "0.0046026749987504445\n"
     ]
    }
   ],
   "source": [
    "start_time = timeit.default_timer()\n",
    "\n",
    "dd = defaultdict(list)\n",
    "dataset_final = dataset_arrange.to_dict('records', into=dd)\n",
    "\n",
    "d1 = defaultdict(list)\n",
    "d2 = defaultdict(list)\n",
    "perc = 30.\n",
    "percent = perc/100.\n",
    "\n",
    "\n",
    "\n",
    "for item in dataset_final:\n",
    "    identity=item['Identity']\n",
    "    amount=item['TRANS_AMT']\n",
    "    index1=item['index1']\n",
    "    d1[identity].append(amount)\n",
    "    if len(d1[identity]) ==1:\n",
    "        perc_of_cont = amount\n",
    "        total_cont = amount\n",
    "        time_of_cont =1\n",
    "        continue\n",
    "    else:\n",
    "        ranked = sorted(d1[identity])\n",
    "        n = int(round(percent * len(d1[identity])))\n",
    "        perc_of_cont=ranked[n-1]\n",
    "        total_cont=sum(d1[identity])\n",
    "        time_of_cont=len(d1[identity])\n",
    "    \n",
    "\n",
    "    d2[index1].append(identity)\n",
    "    d2[index1].append(perc_of_cont)\n",
    "    d2[index1].append(total_cont)\n",
    "    d2[index1].append(time_of_cont)    \n",
    "    \n",
    "elapsed = timeit.default_timer() - start_time\n",
    "print (elapsed)\n",
    "\n",
    "    \n",
    "#for k, v in d1.items():       \n",
    "#    print (k,v)"
   ]
  },
  {
   "cell_type": "code",
   "execution_count": null,
   "metadata": {
    "collapsed": true
   },
   "outputs": [],
   "source": [
    "#%timeit dataset_final.items()"
   ]
  },
  {
   "cell_type": "code",
   "execution_count": null,
   "metadata": {
    "collapsed": true
   },
   "outputs": [],
   "source": []
  },
  {
   "cell_type": "code",
   "execution_count": null,
   "metadata": {
    "collapsed": true
   },
   "outputs": [],
   "source": []
  },
  {
   "cell_type": "code",
   "execution_count": null,
   "metadata": {
    "collapsed": true
   },
   "outputs": [],
   "source": []
  },
  {
   "cell_type": "code",
   "execution_count": null,
   "metadata": {
    "collapsed": true
   },
   "outputs": [],
   "source": [
    "# group by and sum\n",
    "# https://stackoverflow.com/questions/33823091/python-pandas-counting-the-frequency-of-a-specific-value-in-each-row-of-datafra\n",
    "# https://stackoverflow.com/questions/42446006/pandas-find-previous-row-of-matching-value\n",
    "#data_output['TRANS_AMT_PRE'] = \\\n",
    "#data_output.groupby(['CMTE_ID','ZIP_CODE','TRANS_DT'])['TRANS_AMT'].shift()\n",
    "#data_output['TRANS_AMT'] + \\\n",
    "#data_output.groupby('ZIP_CODE')['TRANS_AMT'].shift()"
   ]
  },
  {
   "cell_type": "code",
   "execution_count": null,
   "metadata": {
    "collapsed": true
   },
   "outputs": [],
   "source": [
    "#grouped=data_output.groupby(['CMTE_ID','ZIP_CODE','TRANS_DT'])"
   ]
  },
  {
   "cell_type": "code",
   "execution_count": null,
   "metadata": {
    "collapsed": true
   },
   "outputs": [],
   "source": [
    "#new=data_output.groupby(['CMTE_ID']).get_group('C00035006')\n",
    "#grouped.agg({'TRANS_AMT':np.sum,'TRANS_AMT': np.mean})"
   ]
  },
  {
   "cell_type": "code",
   "execution_count": null,
   "metadata": {
    "collapsed": true
   },
   "outputs": [],
   "source": [
    "#for name, group in grouped:\n",
    "    #print(name)\n",
    "#    print(group.TRANS_AMT)"
   ]
  },
  {
   "cell_type": "code",
   "execution_count": null,
   "metadata": {
    "collapsed": true
   },
   "outputs": [],
   "source": [
    "#grouped.bfill"
   ]
  },
  {
   "cell_type": "code",
   "execution_count": null,
   "metadata": {
    "collapsed": true
   },
   "outputs": [],
   "source": []
  },
  {
   "cell_type": "code",
   "execution_count": null,
   "metadata": {
    "collapsed": true
   },
   "outputs": [],
   "source": []
  }
 ],
 "metadata": {
  "kernelspec": {
   "display_name": "Python 3",
   "language": "python",
   "name": "python3"
  },
  "language_info": {
   "codemirror_mode": {
    "name": "ipython",
    "version": 3
   },
   "file_extension": ".py",
   "mimetype": "text/x-python",
   "name": "python",
   "nbconvert_exporter": "python",
   "pygments_lexer": "ipython3",
   "version": "3.6.3"
  }
 },
 "nbformat": 4,
 "nbformat_minor": 1
}
