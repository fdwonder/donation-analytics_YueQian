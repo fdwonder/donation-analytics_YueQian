{
 "cells": [
  {
   "cell_type": "code",
   "execution_count": 1,
   "metadata": {
    "collapsed": true
   },
   "outputs": [],
   "source": [
    "import sys\n",
    "import os                           # for os interface\n",
    "import csv\n",
    "import math\n",
    "import pickle                       # for full-precision data storage\n",
    "import numpy as np\n",
    "import pandas as pd\n",
    "import matplotlib.mlab as mlab\n",
    "import matplotlib.pyplot as plt"
   ]
  },
  {
   "cell_type": "code",
   "execution_count": 45,
   "metadata": {
    "collapsed": true
   },
   "outputs": [],
   "source": [
    "data_file = '../input/indiv18/itcont.txt'\n",
    "test_data = '../input/indiv18/test_data.txt'\n",
    "header_file = '../input/indiv_header_file.csv'"
   ]
  },
  {
   "cell_type": "code",
   "execution_count": 117,
   "metadata": {},
   "outputs": [],
   "source": [
    "# read header line\n",
    "indiv_header=[]\n",
    "with open(header_file) as f:\n",
    "    for line in f:\n",
    "        header_ele=[ele.strip() for ele in line.split(',') ]\n",
    "        indiv_header.extend(header_ele) # use extend instead of append"
   ]
  },
  {
   "cell_type": "code",
   "execution_count": 119,
   "metadata": {},
   "outputs": [],
   "source": [
    "dataset_raw = pd.read_csv(test_data,delimiter='|',\\\n",
    "                      names=indiv_header,keep_default_na=False)"
   ]
  },
  {
   "cell_type": "code",
   "execution_count": 215,
   "metadata": {},
   "outputs": [],
   "source": [
    "# keep columns of interest\n",
    "dataset_valid=dataset_raw.drop(['AMNDT_IND', 'RPT_TP','TRANSACTION_PGI',\\\n",
    "              'IMAGE_NUM','TRANSACTION_TP','ENTITY_TP',\\\n",
    "              'CITY','STATE','EMPLOYER','OCCUPATION','TRAN_ID',\n",
    "              'FILE_NUM','MEMO_CD','MEMO_TEXT','SUB_ID'], axis=1)\n",
    "# keep only rows with 'OTHER_ID' being empty ---> individual contributor\n",
    "dataset_valid=dataset_valid[dataset_valid['OTHER_ID']=='']\n",
    "# drop rows if any other fields are empty or malformed\n",
    "dataset_valid=dataset_valid[dataset_valid.notnull()]"
   ]
  },
  {
   "cell_type": "code",
   "execution_count": 216,
   "metadata": {},
   "outputs": [
    {
     "data": {
      "text/html": [
       "<div>\n",
       "<style>\n",
       "    .dataframe thead tr:only-child th {\n",
       "        text-align: right;\n",
       "    }\n",
       "\n",
       "    .dataframe thead th {\n",
       "        text-align: left;\n",
       "    }\n",
       "\n",
       "    .dataframe tbody tr th {\n",
       "        vertical-align: top;\n",
       "    }\n",
       "</style>\n",
       "<table border=\"1\" class=\"dataframe\">\n",
       "  <thead>\n",
       "    <tr style=\"text-align: right;\">\n",
       "      <th></th>\n",
       "      <th>CMTE_ID</th>\n",
       "      <th>NAME</th>\n",
       "      <th>ZIP_CODE</th>\n",
       "      <th>TRANSACTION_DT</th>\n",
       "      <th>TRANSACTION_AMT</th>\n",
       "      <th>OTHER_ID</th>\n",
       "    </tr>\n",
       "  </thead>\n",
       "  <tbody>\n",
       "    <tr>\n",
       "      <th>1</th>\n",
       "      <td>C00177436</td>\n",
       "      <td>DEEHAN, WILLIAM N</td>\n",
       "      <td>300047357</td>\n",
       "      <td>1312017</td>\n",
       "      <td>384</td>\n",
       "      <td></td>\n",
       "    </tr>\n",
       "    <tr>\n",
       "      <th>2</th>\n",
       "      <td>C00177436</td>\n",
       "      <td>WATJEN, THOMAS R.</td>\n",
       "      <td>330375267</td>\n",
       "      <td>1042017</td>\n",
       "      <td>5000</td>\n",
       "      <td></td>\n",
       "    </tr>\n",
       "    <tr>\n",
       "      <th>3</th>\n",
       "      <td>C00177436</td>\n",
       "      <td>SABOURIN, JAMES</td>\n",
       "      <td>307502818</td>\n",
       "      <td>1312017</td>\n",
       "      <td>230</td>\n",
       "      <td></td>\n",
       "    </tr>\n",
       "    <tr>\n",
       "      <th>4</th>\n",
       "      <td>C00177436</td>\n",
       "      <td>MAKER, SCOTT T.</td>\n",
       "      <td>40976952</td>\n",
       "      <td>1312017</td>\n",
       "      <td>384</td>\n",
       "      <td></td>\n",
       "    </tr>\n",
       "    <tr>\n",
       "      <th>5</th>\n",
       "      <td>C00177436</td>\n",
       "      <td>PYNE, CHRISTOPHER W</td>\n",
       "      <td>20251500</td>\n",
       "      <td>1312017</td>\n",
       "      <td>230</td>\n",
       "      <td></td>\n",
       "    </tr>\n",
       "    <tr>\n",
       "      <th>6</th>\n",
       "      <td>C00177436</td>\n",
       "      <td>JEROME, CHRISTOPHER</td>\n",
       "      <td>41051896</td>\n",
       "      <td>1312017</td>\n",
       "      <td>384</td>\n",
       "      <td></td>\n",
       "    </tr>\n",
       "    <tr>\n",
       "      <th>7</th>\n",
       "      <td>C00177436</td>\n",
       "      <td>FOLEY, JOSEPH</td>\n",
       "      <td>41051935</td>\n",
       "      <td>1312017</td>\n",
       "      <td>384</td>\n",
       "      <td></td>\n",
       "    </tr>\n",
       "    <tr>\n",
       "      <th>8</th>\n",
       "      <td>C00177436</td>\n",
       "      <td>MCGARRY, JOHN</td>\n",
       "      <td>40424132</td>\n",
       "      <td>1312017</td>\n",
       "      <td>384</td>\n",
       "      <td></td>\n",
       "    </tr>\n",
       "    <tr>\n",
       "      <th>9</th>\n",
       "      <td>C00177436</td>\n",
       "      <td>SIMONDS, MICHAEL Q</td>\n",
       "      <td>41051972</td>\n",
       "      <td>1312017</td>\n",
       "      <td>384</td>\n",
       "      <td></td>\n",
       "    </tr>\n",
       "  </tbody>\n",
       "</table>\n",
       "</div>"
      ],
      "text/plain": [
       "     CMTE_ID                 NAME   ZIP_CODE  TRANSACTION_DT  TRANSACTION_AMT  \\\n",
       "1  C00177436    DEEHAN, WILLIAM N  300047357         1312017              384   \n",
       "2  C00177436    WATJEN, THOMAS R.  330375267         1042017             5000   \n",
       "3  C00177436      SABOURIN, JAMES  307502818         1312017              230   \n",
       "4  C00177436      MAKER, SCOTT T.   40976952         1312017              384   \n",
       "5  C00177436  PYNE, CHRISTOPHER W   20251500         1312017              230   \n",
       "6  C00177436  JEROME, CHRISTOPHER   41051896         1312017              384   \n",
       "7  C00177436        FOLEY, JOSEPH   41051935         1312017              384   \n",
       "8  C00177436        MCGARRY, JOHN   40424132         1312017              384   \n",
       "9  C00177436   SIMONDS, MICHAEL Q   41051972         1312017              384   \n",
       "\n",
       "  OTHER_ID  \n",
       "1           \n",
       "2           \n",
       "3           \n",
       "4           \n",
       "5           \n",
       "6           \n",
       "7           \n",
       "8           \n",
       "9           "
      ]
     },
     "execution_count": 216,
     "metadata": {},
     "output_type": "execute_result"
    }
   ],
   "source": [
    "dataset_valid"
   ]
  },
  {
   "cell_type": "code",
   "execution_count": 221,
   "metadata": {},
   "outputs": [],
   "source": [
    "# take the first five characters of ZIP_CODE\n",
    "dataset_valid['ZIP_CODE']=dataset_valid['ZIP_CODE'].astype(str).str[0:5]\n",
    "# ZIP_CODE is valid only when the resulting string lenth is 5\n",
    "dataset_valid=dataset_valid[dataset_valid['ZIP_CODE'].str.len()==5]\n"
   ]
  },
  {
   "cell_type": "code",
   "execution_count": null,
   "metadata": {
    "collapsed": true
   },
   "outputs": [],
   "source": []
  },
  {
   "cell_type": "code",
   "execution_count": null,
   "metadata": {
    "collapsed": true
   },
   "outputs": [],
   "source": []
  },
  {
   "cell_type": "code",
   "execution_count": null,
   "metadata": {
    "collapsed": true
   },
   "outputs": [],
   "source": []
  }
 ],
 "metadata": {
  "kernelspec": {
   "display_name": "Python 3",
   "language": "python",
   "name": "python3"
  },
  "language_info": {
   "codemirror_mode": {
    "name": "ipython",
    "version": 3
   },
   "file_extension": ".py",
   "mimetype": "text/x-python",
   "name": "python",
   "nbconvert_exporter": "python",
   "pygments_lexer": "ipython3",
   "version": "3.6.3"
  }
 },
 "nbformat": 4,
 "nbformat_minor": 2
}
