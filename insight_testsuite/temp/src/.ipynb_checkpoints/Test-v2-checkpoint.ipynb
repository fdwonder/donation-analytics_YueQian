{
 "cells": [
  {
   "cell_type": "code",
   "execution_count": 99,
   "metadata": {
    "collapsed": true
   },
   "outputs": [],
   "source": [
    "import sys\n",
    "import os                           # for os interface\n",
    "import csv\n",
    "import math\n",
    "import pickle                       # for full-precision data storage\n",
    "import numpy as np\n",
    "import pandas as pd\n",
    "import matplotlib.mlab as mlab\n",
    "import matplotlib.pyplot as plt\n",
    "from collections import OrderedDict, defaultdict  # append list to disc"
   ]
  },
  {
   "cell_type": "code",
   "execution_count": 100,
   "metadata": {
    "collapsed": true
   },
   "outputs": [],
   "source": [
    "data_file = '../input/indiv18/itcont.txt'\n",
    "test_data = '../input/indiv18/test_data.txt'\n",
    "header_file = '../input/indiv_header_file.csv'"
   ]
  },
  {
   "cell_type": "code",
   "execution_count": 101,
   "metadata": {
    "collapsed": true
   },
   "outputs": [],
   "source": [
    "# read header line\n",
    "indiv_header=[]\n",
    "with open(header_file) as f:\n",
    "    for line in f:\n",
    "        header_ele=[ele.strip() for ele in line.split(',') ]\n",
    "        indiv_header.extend(header_ele) # use extend instead of append"
   ]
  },
  {
   "cell_type": "code",
   "execution_count": 102,
   "metadata": {},
   "outputs": [],
   "source": [
    "dataset_raw = pd.read_csv(data_file,delimiter='|',\\\n",
    "                      names=indiv_header,keep_default_na=False,dtype=str)"
   ]
  },
  {
   "cell_type": "code",
   "execution_count": 103,
   "metadata": {
    "collapsed": true
   },
   "outputs": [],
   "source": [
    "# keep columns of interest\n",
    "dataset_valid=dataset_raw.drop(['AMNDT_IND', 'RPT_TP','TRANSACTION_PGI',\\\n",
    "              'IMAGE_NUM','TRANSACTION_TP','ENTITY_TP',\\\n",
    "              'CITY','STATE','EMPLOYER','OCCUPATION','TRAN_ID',\n",
    "              'FILE_NUM','MEMO_CD','MEMO_TEXT','SUB_ID'], axis=1)\n",
    "# keep only rows with 'OTHER_ID' empty ---> individual contributor\n",
    "dataset_valid=dataset_valid[dataset_valid['OTHER_ID']=='']\n",
    "# drop rows if any other fields are empty\n",
    "dataset_valid=dataset_valid[dataset_valid.notnull()]\n",
    "# print out the skipped data number\n",
    "# print (\"Data entry skipped:\",sum(dataset_valid.isnull()))\n",
    "# add the malformed part, eg. CMTE_ID len=9"
   ]
  },
  {
   "cell_type": "code",
   "execution_count": 104,
   "metadata": {
    "collapsed": true
   },
   "outputs": [],
   "source": [
    "#dataset_valid['ZIP_CODE'].str.slice(0,5)"
   ]
  },
  {
   "cell_type": "code",
   "execution_count": 105,
   "metadata": {
    "collapsed": true
   },
   "outputs": [],
   "source": [
    "# take the first five characters of 'ZIP_CODE'\n",
    "# dataset_valid['ZIP_CODE']=dataset_valid['ZIP_CODE'].astype(str).str[0:5]\n",
    "# 'ZIP_CODE' is valid only when the resulting string length is 5\n",
    "dataset_valid=dataset_valid[dataset_valid['ZIP_CODE'].str.len()>=5]\n",
    "\n",
    "# take integer in 'TRANSACTION_AMT'\n",
    "dataset_valid['TRANSACTION_AMT']=dataset_valid['TRANSACTION_AMT'].astype(int)\n",
    "# 'TRANSACTION_AMT' is valid only when > 0\n",
    "dataset_valid=dataset_valid[dataset_valid['TRANSACTION_AMT']>5]"
   ]
  },
  {
   "cell_type": "code",
   "execution_count": 106,
   "metadata": {
    "collapsed": true
   },
   "outputs": [],
   "source": [
    "# first : Mark duplicates as True except for the first occurrence.\n",
    "dataset_repeat=dataset_valid[dataset_valid.duplicated\\\n",
    "                             (['NAME','ZIP_CODE'],keep='first')]"
   ]
  },
  {
   "cell_type": "code",
   "execution_count": 107,
   "metadata": {},
   "outputs": [
    {
     "data": {
      "text/plain": [
       "CMTE_ID               C00104083\n",
       "NAME               ROYER, TAMMY\n",
       "ZIP_CODE              170507952\n",
       "TRANSACTION_DT         01182017\n",
       "TRANSACTION_AMT             190\n",
       "OTHER_ID                       \n",
       "Name: 124, dtype: object"
      ]
     },
     "execution_count": 107,
     "metadata": {},
     "output_type": "execute_result"
    }
   ],
   "source": [
    "dataset_repeat.iloc[0]"
   ]
  },
  {
   "cell_type": "code",
   "execution_count": 108,
   "metadata": {
    "collapsed": true
   },
   "outputs": [],
   "source": [
    "#%timeit list(dataset_repeat.itertuples())"
   ]
  },
  {
   "cell_type": "code",
   "execution_count": 109,
   "metadata": {
    "collapsed": true
   },
   "outputs": [],
   "source": [
    "##with open('repeat_donor.txt','w') as f:\n",
    "##    new_df.to_csv\n",
    "# look at the year only\n",
    "# dataset_repeat.TRANSACTION_DT.str.slice(0,4)\n",
    "#df['New_Sample'] = df.Sample.str[:1]"
   ]
  },
  {
   "cell_type": "code",
   "execution_count": 110,
   "metadata": {},
   "outputs": [],
   "source": [
    "# Column 1: CMTE_ID\n",
    "Col_1 = dataset_repeat['CMTE_ID']\n",
    "# Column 2 and 3: sliced ZIP_CODE and TRANS_DT\n",
    "dataset_arrange = pd.DataFrame(data=Col_1)\n",
    "dataset_arrange['ZIP_CODE'] = dataset_repeat.ZIP_CODE.str[0:5]\n",
    "dataset_arrange['TRANS_DT'] = dataset_repeat.TRANSACTION_DT.str[-4:]\n",
    "dataset_arrange['TRANS_AMT'] = dataset_repeat.TRANSACTION_AMT\n",
    "\n",
    "dataset_arrange['Identity'] = dataset_arrange[['CMTE_ID', 'ZIP_CODE','TRANS_DT']].apply(lambda x: ''.join(x), axis=1)\n",
    "\n",
    "# need cleaning\n",
    "dataset_calc = pd.DataFrame(data=dataset_arrange['Identity'])\n",
    "dataset_calc['TRANS_AMT'] = dataset_arrange['TRANS_AMT']\n",
    "dataset_calc['index1'] = dataset_calc.index\n",
    "dataset_calc['All'] = dataset_calc[['index1','Identity', 'TRANS_AMT']].values.tolist()"
   ]
  },
  {
   "cell_type": "code",
   "execution_count": 111,
   "metadata": {},
   "outputs": [
    {
     "data": {
      "text/plain": [
       "[[124, 'C00104083170502017', 190], [215, 'C00161414352432017', 125]]"
      ]
     },
     "execution_count": 111,
     "metadata": {},
     "output_type": "execute_result"
    }
   ],
   "source": [
    "dataset_final=dataset_calc['All'].tolist()\n",
    "dataset_final[0:2]"
   ]
  },
  {
   "cell_type": "code",
   "execution_count": null,
   "metadata": {},
   "outputs": [],
   "source": [
    "d1 = defaultdict(list)\n",
    "d2 = defaultdict(list)\n",
    "\n",
    "perc = 30.\n",
    "percent = perc/100.\n",
    "\n",
    "\n",
    "\n",
    "for index1, identity, amount in dataset_final:\n",
    "    \n",
    "    d1[identity].append(amount)\n",
    "    if len(d1[identity]) >1:\n",
    "        \n",
    "        ranked = sorted(d1[identity])\n",
    "        n = int(round(percent * len(d1[identity])))\n",
    "        perc_of_cont=ranked[n-1]\n",
    "        total_cont=sum(d1[identity])\n",
    "        time_of_cont=len(d1[identity])\n",
    "    else:\n",
    "        perc_of_cont = amount\n",
    "        total_cont = amount\n",
    "        time_of_cont =1\n",
    "    d2[index1].append(identity)\n",
    "    d2[index1].append(perc_of_cont)\n",
    "    d2[index1].append(total_cont)\n",
    "    d2[index1].append(time_of_cont)\n",
    "    \n",
    "for k, v in d2.items():       \n",
    "    print (k,v)\n"
   ]
  },
  {
   "cell_type": "code",
   "execution_count": null,
   "metadata": {},
   "outputs": [],
   "source": [
    "#%timeit dataset_final.items()"
   ]
  },
  {
   "cell_type": "code",
   "execution_count": null,
   "metadata": {
    "collapsed": true
   },
   "outputs": [],
   "source": []
  },
  {
   "cell_type": "code",
   "execution_count": null,
   "metadata": {
    "collapsed": true
   },
   "outputs": [],
   "source": []
  },
  {
   "cell_type": "code",
   "execution_count": null,
   "metadata": {
    "collapsed": true
   },
   "outputs": [],
   "source": []
  },
  {
   "cell_type": "code",
   "execution_count": null,
   "metadata": {
    "collapsed": true
   },
   "outputs": [],
   "source": [
    "# group by and sum\n",
    "# https://stackoverflow.com/questions/33823091/python-pandas-counting-the-frequency-of-a-specific-value-in-each-row-of-datafra\n",
    "# https://stackoverflow.com/questions/42446006/pandas-find-previous-row-of-matching-value\n",
    "#data_output['TRANS_AMT_PRE'] = \\\n",
    "#data_output.groupby(['CMTE_ID','ZIP_CODE','TRANS_DT'])['TRANS_AMT'].shift()\n",
    "#data_output['TRANS_AMT'] + \\\n",
    "#data_output.groupby('ZIP_CODE')['TRANS_AMT'].shift()"
   ]
  },
  {
   "cell_type": "code",
   "execution_count": null,
   "metadata": {},
   "outputs": [],
   "source": [
    "#grouped=data_output.groupby(['CMTE_ID','ZIP_CODE','TRANS_DT'])"
   ]
  },
  {
   "cell_type": "code",
   "execution_count": null,
   "metadata": {},
   "outputs": [],
   "source": [
    "#new=data_output.groupby(['CMTE_ID']).get_group('C00035006')\n",
    "#grouped.agg({'TRANS_AMT':np.sum,'TRANS_AMT': np.mean})"
   ]
  },
  {
   "cell_type": "code",
   "execution_count": null,
   "metadata": {},
   "outputs": [],
   "source": [
    "#for name, group in grouped:\n",
    "    #print(name)\n",
    "#    print(group.TRANS_AMT)"
   ]
  },
  {
   "cell_type": "code",
   "execution_count": null,
   "metadata": {},
   "outputs": [],
   "source": [
    "#grouped.bfill"
   ]
  },
  {
   "cell_type": "code",
   "execution_count": null,
   "metadata": {
    "collapsed": true
   },
   "outputs": [],
   "source": []
  },
  {
   "cell_type": "code",
   "execution_count": null,
   "metadata": {
    "collapsed": true
   },
   "outputs": [],
   "source": []
  }
 ],
 "metadata": {
  "kernelspec": {
   "display_name": "Python 3",
   "language": "python",
   "name": "python3"
  },
  "language_info": {
   "codemirror_mode": {
    "name": "ipython",
    "version": 3
   },
   "file_extension": ".py",
   "mimetype": "text/x-python",
   "name": "python",
   "nbconvert_exporter": "python",
   "pygments_lexer": "ipython3",
   "version": "3.6.3"
  }
 },
 "nbformat": 4,
 "nbformat_minor": 1
}
