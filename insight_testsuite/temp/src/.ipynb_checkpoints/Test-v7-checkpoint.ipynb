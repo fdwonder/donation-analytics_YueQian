{
 "cells": [
  {
   "cell_type": "code",
   "execution_count": 142,
   "metadata": {
    "collapsed": true
   },
   "outputs": [],
   "source": [
    "import sys\n",
    "import os                           # for os interface\n",
    "import csv\n",
    "import math\n",
    "import pickle                       # for full-precision data storage\n",
    "import numpy as np\n",
    "import pandas as pd\n",
    "import matplotlib.mlab as mlab\n",
    "import matplotlib.pyplot as plt\n",
    "from collections import OrderedDict, defaultdict  # append list to disc\n",
    "import timeit"
   ]
  },
  {
   "cell_type": "code",
   "execution_count": 143,
   "metadata": {},
   "outputs": [
    {
     "name": "stdout",
     "output_type": "stream",
     "text": [
      "6.313899939414114e-05\n"
     ]
    }
   ],
   "source": [
    "start_time = timeit.default_timer()\n",
    "data_file = '../input/indiv18/itcont.txt'\n",
    "test_data = '../input/indiv18/test_data.txt'\n",
    "header_file = '../input/indiv_header_file.csv'\n",
    "elapsed = timeit.default_timer() - start_time\n",
    "print (elapsed)"
   ]
  },
  {
   "cell_type": "code",
   "execution_count": 144,
   "metadata": {},
   "outputs": [
    {
     "name": "stdout",
     "output_type": "stream",
     "text": [
      "0.003981415000453126\n",
      "57.50057560799905\n"
     ]
    }
   ],
   "source": [
    "start_time = timeit.default_timer()\n",
    "# read header line\n",
    "indiv_header=[]\n",
    "with open(header_file) as f:\n",
    "    for line in f:\n",
    "        header_ele=[ele.strip() for ele in line.split(',') ]\n",
    "        indiv_header.extend(header_ele) # use extend instead of append\n",
    "elapsed = timeit.default_timer() - start_time\n",
    "print (elapsed)\n",
    "dataset_raw = pd.read_csv(data_file,delimiter='|',\\\n",
    "                      names=indiv_header,keep_default_na=False,dtype=str)\n",
    "elapsed = timeit.default_timer() - start_time\n",
    "print (elapsed)"
   ]
  },
  {
   "cell_type": "code",
   "execution_count": 145,
   "metadata": {},
   "outputs": [
    {
     "name": "stdout",
     "output_type": "stream",
     "text": [
      "7.000540617998922\n"
     ]
    }
   ],
   "source": [
    "start_time = timeit.default_timer()\n",
    "# keep columns of interest\n",
    "dataset_valid=pd.DataFrame()\n",
    "dataset_valid=dataset_raw.drop(['AMNDT_IND', 'RPT_TP','TRANSACTION_PGI',\\\n",
    "              'IMAGE_NUM','TRANSACTION_TP','ENTITY_TP',\\\n",
    "              'CITY','STATE','EMPLOYER','OCCUPATION','TRAN_ID',\n",
    "              'FILE_NUM','MEMO_CD','MEMO_TEXT','SUB_ID'], axis=1)\n",
    "\n",
    "dataset_valid=dataset_valid[dataset_valid['OTHER_ID'].notnull()]\n",
    "dataset_valid=dataset_valid[dataset_valid.notnull()]\n",
    "elapsed = timeit.default_timer() - start_time\n",
    "print (elapsed)"
   ]
  },
  {
   "cell_type": "code",
   "execution_count": 146,
   "metadata": {},
   "outputs": [
    {
     "name": "stdout",
     "output_type": "stream",
     "text": [
      "7.525046889997611\n"
     ]
    }
   ],
   "source": [
    "start_time = timeit.default_timer()\n",
    "# take the first five characters of 'ZIP_CODE'\n",
    "# dataset_valid['ZIP_CODE']=dataset_valid['ZIP_CODE'].astype(str).str[0:5]\n",
    "# 'ZIP_CODE' is valid only when the resulting string length is 5\n",
    "dataset_valid=dataset_valid[dataset_valid['ZIP_CODE'].str.len()>=5]\n",
    "\n",
    "# take integer in 'TRANSACTION_AMT'\n",
    "dataset_valid['TRANSACTION_AMT']=dataset_valid['TRANSACTION_AMT'].astype(int)\n",
    "# 'TRANSACTION_AMT' is valid only when > 0\n",
    "dataset_valid=dataset_valid[dataset_valid['TRANSACTION_AMT']>5]\n",
    "\n",
    "# first : Mark duplicates as True except for the first occurrence.\n",
    "dataset_repeat=dataset_valid[dataset_valid.duplicated\\\n",
    "                             (['NAME','ZIP_CODE'],keep='first')]\n",
    "\n",
    "elapsed = timeit.default_timer() - start_time\n",
    "print (elapsed)"
   ]
  },
  {
   "cell_type": "code",
   "execution_count": 147,
   "metadata": {},
   "outputs": [
    {
     "data": {
      "text/plain": [
       "CMTE_ID                  C00394973\n",
       "NAME               CAFARO, CAPRI S\n",
       "ZIP_CODE                     44425\n",
       "TRANSACTION_DT            01102017\n",
       "TRANSACTION_AMT                396\n",
       "OTHER_ID                 H4OH14094\n",
       "Name: 109, dtype: object"
      ]
     },
     "execution_count": 147,
     "metadata": {},
     "output_type": "execute_result"
    }
   ],
   "source": [
    "dataset_repeat.iloc[0]"
   ]
  },
  {
   "cell_type": "code",
   "execution_count": 148,
   "metadata": {},
   "outputs": [
    {
     "name": "stdout",
     "output_type": "stream",
     "text": [
      "7.5327009440006805\n"
     ]
    }
   ],
   "source": [
    "start_time = timeit.default_timer()\n",
    "dataset_arrange=pd.DataFrame()\n",
    "dataset_arrange['Identity'] = dataset_repeat['CMTE_ID'] + dataset_repeat.ZIP_CODE.str[0:5] + dataset_repeat.TRANSACTION_DT.str[-4:]\n",
    "dataset_arrange['TRANS_AMT'] = dataset_repeat.TRANSACTION_AMT\n",
    "dataset_arrange['index1'] = dataset_arrange.index\n",
    "elapsed = timeit.default_timer() - start_time\n",
    "print (elapsed)"
   ]
  },
  {
   "cell_type": "code",
   "execution_count": 149,
   "metadata": {},
   "outputs": [
    {
     "data": {
      "text/html": [
       "<div>\n",
       "<style scoped>\n",
       "    .dataframe tbody tr th:only-of-type {\n",
       "        vertical-align: middle;\n",
       "    }\n",
       "\n",
       "    .dataframe tbody tr th {\n",
       "        vertical-align: top;\n",
       "    }\n",
       "\n",
       "    .dataframe thead th {\n",
       "        text-align: right;\n",
       "    }\n",
       "</style>\n",
       "<table border=\"1\" class=\"dataframe\">\n",
       "  <thead>\n",
       "    <tr style=\"text-align: right;\">\n",
       "      <th></th>\n",
       "      <th>Identity</th>\n",
       "      <th>TRANS_AMT</th>\n",
       "      <th>index1</th>\n",
       "    </tr>\n",
       "  </thead>\n",
       "  <tbody>\n",
       "    <tr>\n",
       "      <th>109</th>\n",
       "      <td>C00394973444252017</td>\n",
       "      <td>396</td>\n",
       "      <td>109</td>\n",
       "    </tr>\n",
       "    <tr>\n",
       "      <th>110</th>\n",
       "      <td>C00394973444252017</td>\n",
       "      <td>25</td>\n",
       "      <td>110</td>\n",
       "    </tr>\n",
       "    <tr>\n",
       "      <th>124</th>\n",
       "      <td>C00104083170502017</td>\n",
       "      <td>190</td>\n",
       "      <td>124</td>\n",
       "    </tr>\n",
       "    <tr>\n",
       "      <th>208</th>\n",
       "      <td>C00610436995072017</td>\n",
       "      <td>500</td>\n",
       "      <td>208</td>\n",
       "    </tr>\n",
       "    <tr>\n",
       "      <th>215</th>\n",
       "      <td>C00161414352432017</td>\n",
       "      <td>125</td>\n",
       "      <td>215</td>\n",
       "    </tr>\n",
       "  </tbody>\n",
       "</table>\n",
       "</div>"
      ],
      "text/plain": [
       "               Identity  TRANS_AMT  index1\n",
       "109  C00394973444252017        396     109\n",
       "110  C00394973444252017         25     110\n",
       "124  C00104083170502017        190     124\n",
       "208  C00610436995072017        500     208\n",
       "215  C00161414352432017        125     215"
      ]
     },
     "execution_count": 149,
     "metadata": {},
     "output_type": "execute_result"
    }
   ],
   "source": [
    "dataset_arrange.iloc[0:5]"
   ]
  },
  {
   "cell_type": "code",
   "execution_count": 150,
   "metadata": {},
   "outputs": [
    {
     "name": "stdout",
     "output_type": "stream",
     "text": [
      "958.9374080350026\n"
     ]
    }
   ],
   "source": [
    "start_time = timeit.default_timer()\n",
    "grouped=dataset_arrange.groupby('Identity')\n",
    "#grouped.groups['C00394973444252017']\n",
    "#pd.rolling_quantile(grouped['TRANS_AMT'], 2, 0.3)\n",
    "#s=grouped['TRANS_AMT']\n",
    "#perc=dataset_arrange.groupby('Identity',as_index=True).expanding(min_periods=1,center=False).quantile(quantile=0.3)\n",
    "#perc=grouped['TRANS_AMT'].expanding(min_periods=1,center=False).quantile(quantile=0.3)\n",
    "#total=grouped['TRANS_AMT'].expanding(1).sum()\n",
    "#times=grouped['TRANS_AMT'].expanding(1).count()\n",
    "\n",
    "\n",
    "#def func_sum(group):\n",
    "#    return pd.DataFrame({'sum': group.expanding(1).sum(),'times':group.expanding(1).count()} )\n",
    "#def func_perc(group):\n",
    "#    return pd.Series(group.expanding(min_periods=1,center=False).quantile(quantile=0.3))\n",
    "#def func_total(group):\n",
    "#    return pd.Series(group.expanding(1).sum())\n",
    "#def func_times(group):\n",
    "#    return pd.Series(group.expanding(1).count())\n",
    "\n",
    "#s1=grouped['TRANS_AMT'].transform(func_perc)\n",
    "#s2=grouped['TRANS_AMT'].transform(func_total)\n",
    "#s3=grouped['TRANS_AMT'].transform(func_times)\n",
    "\n",
    "#pd.concat([dataset_arrange.Identity, s1, s2, s3],names=['Identity','perc','total','times'],axis=1)\n",
    "#df_1 = dataset_arrange.merge(total)\n",
    "#result = pd.concat([perc, total], axis=1)\n",
    "#grouped.groups.keys()\n",
    "#grouped['TRANS_AMT'].apply(lambda x: x.describe())\n",
    "\n",
    "def f(group):\n",
    "    return pd.DataFrame({'Identity': group['Identity'],'Original': group['TRANS_AMT'], 'Perc': group['TRANS_AMT'].expanding(min_periods=1, center=False).quantile(quantile=0.3),\\\n",
    "                         'Total': group['TRANS_AMT'].expanding(1).sum(), 'Times': group['TRANS_AMT'].expanding(1).count()})\n",
    "\n",
    "X=grouped.apply(f)\n",
    "\n",
    "elapsed = timeit.default_timer() - start_time\n",
    "print(elapsed)"
   ]
  },
  {
   "cell_type": "code",
   "execution_count": 151,
   "metadata": {},
   "outputs": [
    {
     "data": {
      "text/plain": [
       "Identity                   \n",
       "C00000059180402017  1940283       40.0\n",
       "                    1940317       90.0\n",
       "                    1940336      130.0\n",
       "                    2097382      140.0\n",
       "                    2097417      160.0\n",
       "                    2097418      185.0\n",
       "                    2097448      205.0\n",
       "                    2097449      215.0\n",
       "                    2672166      275.0\n",
       "                    2672167      350.0\n",
       "                    2672169      380.0\n",
       "                    2672198      440.0\n",
       "                    2672199      470.0\n",
       "                    3397732      510.0\n",
       "                    3397733      560.0\n",
       "                    3397736      600.0\n",
       "                    3430773      650.0\n",
       "                    3453810      710.0\n",
       "                    3453811      785.0\n",
       "                    3453818      845.0\n",
       "                    3635298      885.0\n",
       "                    3635304      935.0\n",
       "                    3635315      975.0\n",
       "                    5904634     1015.0\n",
       "                    5904635     1065.0\n",
       "                    5904646     1105.0\n",
       "C00000059640122017  1940297      100.0\n",
       "                    2097405      125.0\n",
       "                    2097435      152.0\n",
       "                    2097445      252.0\n",
       "                                ...   \n",
       "C00664151068302017  6370494    10800.0\n",
       "C00664151068782017  6370412     2700.0\n",
       "                    6370413     5400.0\n",
       "                    6370482     8100.0\n",
       "                    6370484    10800.0\n",
       "                    6370487    13500.0\n",
       "                    6370489    16200.0\n",
       "C00664151069022017  6370433     2700.0\n",
       "C00664151100072017  6370417     2700.0\n",
       "                    6370419     5400.0\n",
       "C00664151100212017  6370426     2700.0\n",
       "                    6370428     5400.0\n",
       "C00664151100242017  6370495     2700.0\n",
       "C00664151331462017  6370415     2700.0\n",
       "C00664631474312017  5908785      118.0\n",
       "C00666289930652017  5915332       50.0\n",
       "                    5915333      100.0\n",
       "                    5915334      150.0\n",
       "                    5915335      200.0\n",
       "C90009853941072017  2918576    20000.0\n",
       "C90014028303052017  3623081      546.0\n",
       "C90014028303422017  3623083      250.0\n",
       "C90014234220412017  4251203      650.0\n",
       "                    4251204     3300.0\n",
       "C90016726900172017  1045165    10000.0\n",
       "C90016726904022017  1045150    25000.0\n",
       "C90016726911012017  1045162    25000.0\n",
       "C90017252303092017  3491610      500.0\n",
       "C90017260599232017  436862       119.0\n",
       "C90017310597152017  3451943      215.0\n",
       "Name: TRANS_AMT, Length: 4588270, dtype: float64"
      ]
     },
     "execution_count": 151,
     "metadata": {},
     "output_type": "execute_result"
    }
   ],
   "source": [
    "grouped['TRANS_AMT'].expanding(1).sum()"
   ]
  },
  {
   "cell_type": "code",
   "execution_count": 152,
   "metadata": {},
   "outputs": [
    {
     "name": "stdout",
     "output_type": "stream",
     "text": [
      "944.451614868005\n"
     ]
    }
   ],
   "source": [
    "start_time = timeit.default_timer()\n",
    "\n",
    "dd = defaultdict(list)\n",
    "dataset_final = dataset_arrange.to_dict('records', into=dd)\n",
    "\n",
    "d1 = defaultdict(list)\n",
    "d2 = defaultdict(list)\n",
    "perc = 30.\n",
    "percent = perc/100.\n",
    "\n",
    "\n",
    "\n",
    "for item in dataset_final:\n",
    "    identity=item['Identity']\n",
    "    amount=item['TRANS_AMT']\n",
    "    index1=item['index1']\n",
    "    d1[identity].append(amount)\n",
    "    if len(d1[identity]) ==1:\n",
    "        perc_of_cont = amount\n",
    "        total_cont = amount\n",
    "        time_of_cont =1\n",
    "        continue\n",
    "    else:\n",
    "        ranked = sorted(d1[identity])\n",
    "        n = int(round(percent * len(d1[identity])))\n",
    "        perc_of_cont=ranked[n-1]\n",
    "        total_cont=sum(d1[identity])\n",
    "        time_of_cont=len(d1[identity])\n",
    "    \n",
    "\n",
    "    d2[index1].append(identity)\n",
    "    d2[index1].append(perc_of_cont)\n",
    "    d2[index1].append(total_cont)\n",
    "    d2[index1].append(time_of_cont)    \n",
    "    \n",
    "elapsed = timeit.default_timer() - start_time\n",
    "print (elapsed)\n",
    "\n",
    "    \n",
    "#for k, v in d1.items():       \n",
    "#    print (k,v)"
   ]
  },
  {
   "cell_type": "code",
   "execution_count": 153,
   "metadata": {
    "collapsed": true
   },
   "outputs": [],
   "source": [
    "#%timeit dataset_final.items()"
   ]
  },
  {
   "cell_type": "code",
   "execution_count": null,
   "metadata": {
    "collapsed": true
   },
   "outputs": [],
   "source": []
  },
  {
   "cell_type": "code",
   "execution_count": null,
   "metadata": {
    "collapsed": true
   },
   "outputs": [],
   "source": []
  },
  {
   "cell_type": "code",
   "execution_count": null,
   "metadata": {
    "collapsed": true
   },
   "outputs": [],
   "source": []
  },
  {
   "cell_type": "code",
   "execution_count": 154,
   "metadata": {
    "collapsed": true
   },
   "outputs": [],
   "source": [
    "# group by and sum\n",
    "# https://stackoverflow.com/questions/33823091/python-pandas-counting-the-frequency-of-a-specific-value-in-each-row-of-datafra\n",
    "# https://stackoverflow.com/questions/42446006/pandas-find-previous-row-of-matching-value\n",
    "#data_output['TRANS_AMT_PRE'] = \\\n",
    "#data_output.groupby(['CMTE_ID','ZIP_CODE','TRANS_DT'])['TRANS_AMT'].shift()\n",
    "#data_output['TRANS_AMT'] + \\\n",
    "#data_output.groupby('ZIP_CODE')['TRANS_AMT'].shift()"
   ]
  },
  {
   "cell_type": "code",
   "execution_count": 155,
   "metadata": {
    "collapsed": true
   },
   "outputs": [],
   "source": [
    "#grouped=data_output.groupby(['CMTE_ID','ZIP_CODE','TRANS_DT'])"
   ]
  },
  {
   "cell_type": "code",
   "execution_count": 156,
   "metadata": {
    "collapsed": true
   },
   "outputs": [],
   "source": [
    "#new=data_output.groupby(['CMTE_ID']).get_group('C00035006')\n",
    "#grouped.agg({'TRANS_AMT':np.sum,'TRANS_AMT': np.mean})"
   ]
  },
  {
   "cell_type": "code",
   "execution_count": 157,
   "metadata": {
    "collapsed": true
   },
   "outputs": [],
   "source": [
    "#for name, group in grouped:\n",
    "    #print(name)\n",
    "#    print(group.TRANS_AMT)"
   ]
  },
  {
   "cell_type": "code",
   "execution_count": 158,
   "metadata": {
    "collapsed": true
   },
   "outputs": [],
   "source": [
    "#grouped.bfill"
   ]
  },
  {
   "cell_type": "code",
   "execution_count": null,
   "metadata": {
    "collapsed": true
   },
   "outputs": [],
   "source": []
  },
  {
   "cell_type": "code",
   "execution_count": null,
   "metadata": {
    "collapsed": true
   },
   "outputs": [],
   "source": []
  }
 ],
 "metadata": {
  "kernelspec": {
   "display_name": "Python 3",
   "language": "python",
   "name": "python3"
  },
  "language_info": {
   "codemirror_mode": {
    "name": "ipython",
    "version": 3
   },
   "file_extension": ".py",
   "mimetype": "text/x-python",
   "name": "python",
   "nbconvert_exporter": "python",
   "pygments_lexer": "ipython3",
   "version": "3.6.3"
  }
 },
 "nbformat": 4,
 "nbformat_minor": 1
}
