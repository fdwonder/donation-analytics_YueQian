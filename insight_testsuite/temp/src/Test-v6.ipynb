{
 "cells": [
  {
   "cell_type": "code",
   "execution_count": 2,
   "metadata": {
    "collapsed": true
   },
   "outputs": [],
   "source": [
    "import sys\n",
    "import os                           # for os interface\n",
    "import csv\n",
    "import math\n",
    "import pickle                       # for full-precision data storage\n",
    "import numpy as np\n",
    "import pandas as pd\n",
    "import matplotlib.mlab as mlab\n",
    "import matplotlib.pyplot as plt\n",
    "from collections import OrderedDict, defaultdict  # append list to disc\n",
    "import timeit"
   ]
  },
  {
   "cell_type": "code",
   "execution_count": 3,
   "metadata": {},
   "outputs": [
    {
     "name": "stdout",
     "output_type": "stream",
     "text": [
      "8.407401037402451e-05\n"
     ]
    }
   ],
   "source": [
    "start_time = timeit.default_timer()\n",
    "data_file = '../input/itcont.txt'\n",
    "test_data = '../input/test_data.txt'\n",
    "header_file = '../input/indiv_header_file.csv'\n",
    "elapsed = timeit.default_timer() - start_time\n",
    "print (elapsed)"
   ]
  },
  {
   "cell_type": "code",
   "execution_count": 4,
   "metadata": {},
   "outputs": [
    {
     "name": "stdout",
     "output_type": "stream",
     "text": [
      "0.0011911229958059266\n",
      "0.017322304003755562\n"
     ]
    }
   ],
   "source": [
    "start_time = timeit.default_timer()\n",
    "# read header line\n",
    "indiv_header=[]\n",
    "with open(header_file) as f:\n",
    "    for line in f:\n",
    "        header_ele=[ele.strip() for ele in line.split(',') ]\n",
    "        indiv_header.extend(header_ele) # use extend instead of append\n",
    "elapsed = timeit.default_timer() - start_time\n",
    "print (elapsed)\n",
    "dataset_raw = pd.read_csv(data_file,delimiter='|',\\\n",
    "                      names=indiv_header,keep_default_na=False,dtype=str)\n",
    "elapsed = timeit.default_timer() - start_time\n",
    "print (elapsed)"
   ]
  },
  {
   "cell_type": "code",
   "execution_count": 5,
   "metadata": {},
   "outputs": [
    {
     "name": "stdout",
     "output_type": "stream",
     "text": [
      "0.008411861999775283\n"
     ]
    }
   ],
   "source": [
    "start_time = timeit.default_timer()\n",
    "# keep columns of interest\n",
    "dataset_valid=pd.DataFrame()\n",
    "dataset_valid=dataset_raw.drop(['AMNDT_IND', 'RPT_TP','TRANSACTION_PGI',\\\n",
    "              'IMAGE_NUM','TRANSACTION_TP','ENTITY_TP',\\\n",
    "              'CITY','STATE','EMPLOYER','OCCUPATION','TRAN_ID',\n",
    "              'FILE_NUM','MEMO_CD','MEMO_TEXT','SUB_ID'], axis=1)\n",
    "\n",
    "dataset_valid=dataset_valid[dataset_valid['OTHER_ID'].notnull()]\n",
    "dataset_valid=dataset_valid[dataset_valid.notnull()]\n",
    "elapsed = timeit.default_timer() - start_time\n",
    "print (elapsed)"
   ]
  },
  {
   "cell_type": "code",
   "execution_count": 6,
   "metadata": {},
   "outputs": [
    {
     "name": "stdout",
     "output_type": "stream",
     "text": [
      "0.051533574995119125\n"
     ]
    }
   ],
   "source": [
    "start_time = timeit.default_timer()\n",
    "# take the first five characters of 'ZIP_CODE'\n",
    "# dataset_valid['ZIP_CODE']=dataset_valid['ZIP_CODE'].astype(str).str[0:5]\n",
    "# 'ZIP_CODE' is valid only when the resulting string length is 5\n",
    "dataset_valid=dataset_valid[dataset_valid['ZIP_CODE'].str.len()>=5]\n",
    "\n",
    "# take integer in 'TRANSACTION_AMT'\n",
    "dataset_valid['TRANSACTION_AMT']=dataset_valid['TRANSACTION_AMT'].astype(int)\n",
    "# 'TRANSACTION_AMT' is valid only when > 0\n",
    "dataset_valid=dataset_valid[dataset_valid['TRANSACTION_AMT']>5]\n",
    "\n",
    "# first : Mark duplicates as True except for the first occurrence.\n",
    "dataset_repeat=dataset_valid[dataset_valid.duplicated\\\n",
    "                             (['NAME','ZIP_CODE'],keep='first')]\n",
    "\n",
    "elapsed = timeit.default_timer() - start_time\n",
    "print (elapsed)"
   ]
  },
  {
   "cell_type": "code",
   "execution_count": 7,
   "metadata": {},
   "outputs": [
    {
     "data": {
      "text/plain": [
       "CMTE_ID                  C00394973\n",
       "NAME               CAFARO, CAPRI S\n",
       "ZIP_CODE                     44425\n",
       "TRANSACTION_DT            01102017\n",
       "TRANSACTION_AMT                396\n",
       "OTHER_ID                 H4OH14094\n",
       "Name: 109, dtype: object"
      ]
     },
     "execution_count": 7,
     "metadata": {},
     "output_type": "execute_result"
    }
   ],
   "source": [
    "dataset_repeat.iloc[0]"
   ]
  },
  {
   "cell_type": "code",
   "execution_count": 8,
   "metadata": {},
   "outputs": [
    {
     "name": "stdout",
     "output_type": "stream",
     "text": [
      "0.009076114001800306\n"
     ]
    }
   ],
   "source": [
    "start_time = timeit.default_timer()\n",
    "dataset_arrange=pd.DataFrame()\n",
    "dataset_arrange['Identity'] = dataset_repeat['CMTE_ID'] + dataset_repeat.ZIP_CODE.str[0:5] + dataset_repeat.TRANSACTION_DT.str[-4:]\n",
    "dataset_arrange['TRANS_AMT'] = dataset_repeat.TRANSACTION_AMT\n",
    "dataset_arrange['index1'] = dataset_arrange.index\n",
    "elapsed = timeit.default_timer() - start_time\n",
    "print (elapsed)"
   ]
  },
  {
   "cell_type": "code",
   "execution_count": 9,
   "metadata": {},
   "outputs": [
    {
     "data": {
      "text/html": [
       "<div>\n",
       "<style>\n",
       "    .dataframe thead tr:only-child th {\n",
       "        text-align: right;\n",
       "    }\n",
       "\n",
       "    .dataframe thead th {\n",
       "        text-align: left;\n",
       "    }\n",
       "\n",
       "    .dataframe tbody tr th {\n",
       "        vertical-align: top;\n",
       "    }\n",
       "</style>\n",
       "<table border=\"1\" class=\"dataframe\">\n",
       "  <thead>\n",
       "    <tr style=\"text-align: right;\">\n",
       "      <th></th>\n",
       "      <th>Identity</th>\n",
       "      <th>TRANS_AMT</th>\n",
       "      <th>index1</th>\n",
       "    </tr>\n",
       "  </thead>\n",
       "  <tbody>\n",
       "    <tr>\n",
       "      <th>109</th>\n",
       "      <td>C00394973444252017</td>\n",
       "      <td>396</td>\n",
       "      <td>109</td>\n",
       "    </tr>\n",
       "    <tr>\n",
       "      <th>110</th>\n",
       "      <td>C00394973444252017</td>\n",
       "      <td>25</td>\n",
       "      <td>110</td>\n",
       "    </tr>\n",
       "    <tr>\n",
       "      <th>124</th>\n",
       "      <td>C00104083170502017</td>\n",
       "      <td>190</td>\n",
       "      <td>124</td>\n",
       "    </tr>\n",
       "    <tr>\n",
       "      <th>208</th>\n",
       "      <td>C00610436995072017</td>\n",
       "      <td>500</td>\n",
       "      <td>208</td>\n",
       "    </tr>\n",
       "    <tr>\n",
       "      <th>215</th>\n",
       "      <td>C00161414352432017</td>\n",
       "      <td>125</td>\n",
       "      <td>215</td>\n",
       "    </tr>\n",
       "  </tbody>\n",
       "</table>\n",
       "</div>"
      ],
      "text/plain": [
       "               Identity  TRANS_AMT  index1\n",
       "109  C00394973444252017        396     109\n",
       "110  C00394973444252017         25     110\n",
       "124  C00104083170502017        190     124\n",
       "208  C00610436995072017        500     208\n",
       "215  C00161414352432017        125     215"
      ]
     },
     "execution_count": 9,
     "metadata": {},
     "output_type": "execute_result"
    }
   ],
   "source": [
    "dataset_arrange.iloc[0:5]"
   ]
  },
  {
   "cell_type": "code",
   "execution_count": 12,
   "metadata": {},
   "outputs": [
    {
     "name": "stdout",
     "output_type": "stream",
     "text": [
      "0.3605819170043105\n"
     ]
    }
   ],
   "source": [
    "start_time = timeit.default_timer()\n",
    "grouped=dataset_arrange.groupby('Identity')\n",
    "\n",
    "grouped.groups\n",
    "#grouped.groups['C00394973444252017']\n",
    "#pd.rolling_quantile(grouped['TRANS_AMT'], 2, 0.3)\n",
    "#s=grouped['TRANS_AMT']\n",
    "#perc=dataset_arrange.groupby('Identity',as_index=True).expanding(min_periods=1,center=False).quantile(quantile=0.3)\n",
    "#perc=grouped['TRANS_AMT'].expanding(min_periods=1,center=False).quantile(quantile=0.3)\n",
    "#total=grouped['TRANS_AMT'].expanding(1).sum()\n",
    "#times=grouped['TRANS_AMT'].expanding(1).count()\n",
    "\n",
    "\n",
    "#def func_sum(group):\n",
    "#    return pd.DataFrame({'sum': group.expanding(1).sum(),'times':group.expanding(1).count()} )\n",
    "#def func_perc(group):\n",
    "#    return pd.Series(group.expanding(min_periods=1,center=False).quantile(quantile=0.3))\n",
    "#def func_total(group):\n",
    "#    return pd.Series(group.expanding(1).sum())\n",
    "#def func_times(group):\n",
    "#    return pd.Series(group.expanding(1).count())\n",
    "\n",
    "#s1=grouped['TRANS_AMT'].transform(func_perc)\n",
    "#s2=grouped['TRANS_AMT'].transform(func_total)\n",
    "#s3=grouped['TRANS_AMT'].transform(func_times)\n",
    "\n",
    "#pd.concat([dataset_arrange.Identity, s1, s2, s3],names=['Identity','perc','total','times'],axis=1)\n",
    "#df_1 = dataset_arrange.merge(total)\n",
    "#result = pd.concat([perc, total], axis=1)\n",
    "#grouped.groups.keys()\n",
    "#grouped['TRANS_AMT'].apply(lambda x: x.describe())\n",
    "\n",
    "def f(group):\n",
    "    return pd.DataFrame({'Identity': group['Identity'],'Original': group['TRANS_AMT'], 'Perc': group['TRANS_AMT'].expanding(min_periods=1, center=False).quantile(quantile=0.3),\\\n",
    "                         'Total': group['TRANS_AMT'].expanding(1).sum(), 'Times': group['TRANS_AMT'].expanding(1).count()})\n",
    "\n",
    "X=grouped.apply(f)\n",
    "\n",
    "elapsed = timeit.default_timer() - start_time\n",
    "print(elapsed)"
   ]
  },
  {
   "cell_type": "code",
   "execution_count": 13,
   "metadata": {},
   "outputs": [
    {
     "data": {
      "text/plain": [
       "{'C00033555317922017': Int64Index([519], dtype='int64'),\n",
       " 'C00034157024582017': Int64Index([1671], dtype='int64'),\n",
       " 'C00034157064612017': Int64Index([1683], dtype='int64'),\n",
       " 'C00034157115702017': Int64Index([1656], dtype='int64'),\n",
       " 'C00034157303392017': Int64Index([1641], dtype='int64'),\n",
       " 'C00034157319012017': Int64Index([1658], dtype='int64'),\n",
       " 'C00034157319042017': Int64Index([1668, 1714], dtype='int64'),\n",
       " 'C00034157319062017': Int64Index([1661], dtype='int64'),\n",
       " 'C00034157334272017': Int64Index([1678], dtype='int64'),\n",
       " 'C00034157503222017': Int64Index([1636, 1722], dtype='int64'),\n",
       " 'C00034157572012017': Int64Index([1719], dtype='int64'),\n",
       " 'C00034157786762017': Int64Index([1726], dtype='int64'),\n",
       " 'C00034157850272017': Int64Index([1725], dtype='int64'),\n",
       " 'C00035006945832017': Int64Index([615, 618, 620, 622, 624, 626, 628, 630, 632, 634, 636, 640, 641,\n",
       "             643, 645, 648, 649, 652, 654, 655, 657, 660, 662, 666, 667, 668,\n",
       "             673, 674, 676, 679, 681, 684, 686, 687, 689, 694, 696, 697],\n",
       "            dtype='int64'),\n",
       " 'C00035691770322017': Int64Index([275], dtype='int64'),\n",
       " 'C00035691770422017': Int64Index([280], dtype='int64'),\n",
       " 'C00035691770722017': Int64Index([267, 269, 271], dtype='int64'),\n",
       " 'C00035691802022017': Int64Index([264], dtype='int64'),\n",
       " 'C00089136068402017': Int64Index([569], dtype='int64'),\n",
       " 'C00089136223042017': Int64Index([547], dtype='int64'),\n",
       " 'C00089136230592017': Int64Index([593, 608], dtype='int64'),\n",
       " 'C00089136231032017': Int64Index([576], dtype='int64'),\n",
       " 'C00089136231112017': Int64Index([590], dtype='int64'),\n",
       " 'C00089136231132017': Int64Index([598], dtype='int64'),\n",
       " 'C00089136232262017': Int64Index([543, 552, 600], dtype='int64'),\n",
       " 'C00089136232382017': Int64Index([565, 587, 605, 609], dtype='int64'),\n",
       " 'C00089136300042017': Int64Index([574], dtype='int64'),\n",
       " 'C00089136303052017': Int64Index([563], dtype='int64'),\n",
       " 'C00089136980052017': Int64Index([578], dtype='int64'),\n",
       " 'C00089136980772017': Int64Index([588], dtype='int64'),\n",
       " 'C00104083170502017': Int64Index([124], dtype='int64'),\n",
       " 'C00117838600152017': Int64Index([701], dtype='int64'),\n",
       " 'C00161414352162017': Int64Index([217], dtype='int64'),\n",
       " 'C00161414352232017': Int64Index([221, 225], dtype='int64'),\n",
       " 'C00161414352422017': Int64Index([219, 223], dtype='int64'),\n",
       " 'C00161414352432017': Int64Index([215], dtype='int64'),\n",
       " 'C00161414452452017': Int64Index([228], dtype='int64'),\n",
       " 'C00193433100142017': Int64Index([1021], dtype='int64'),\n",
       " 'C00193433100222017': Int64Index([1740], dtype='int64'),\n",
       " 'C00193433100232017': Int64Index([1369, 1490], dtype='int64'),\n",
       " 'C00193433100252017': Int64Index([1346], dtype='int64'),\n",
       " 'C00193433100282017': Int64Index([1792], dtype='int64'),\n",
       " 'C00193433100752017': Int64Index([1847, 1848], dtype='int64'),\n",
       " 'C00193433105042017': Int64Index([1253], dtype='int64'),\n",
       " 'C00193433105162017': Int64Index([883, 994], dtype='int64'),\n",
       " 'C00193433105772017': Int64Index([1094], dtype='int64'),\n",
       " 'C00193433112152017': Int64Index([1226, 1236], dtype='int64'),\n",
       " 'C00193433112182017': Int64Index([944, 1214], dtype='int64'),\n",
       " 'C00193433115792017': Int64Index([1350, 1452, 1455, 1862], dtype='int64'),\n",
       " 'C00193433115962017': Int64Index([1871], dtype='int64'),\n",
       " 'C00193433117432017': Int64Index([1854], dtype='int64'),\n",
       " 'C00193433126042017': Int64Index([1208, 1811], dtype='int64'),\n",
       " 'C00193433191032017': Int64Index([1891], dtype='int64'),\n",
       " 'C00193433200152017': Int64Index([853, 1769], dtype='int64'),\n",
       " 'C00193433212092017': Int64Index([1494], dtype='int64'),\n",
       " 'C00193433222032017': Int64Index([771], dtype='int64'),\n",
       " 'C00193433222062017': Int64Index([1125], dtype='int64'),\n",
       " 'C00193433223142017': Int64Index([1451], dtype='int64'),\n",
       " 'C00193433292052017': Int64Index([943], dtype='int64'),\n",
       " 'C00193433323012017': Int64Index([1422], dtype='int64'),\n",
       " 'C00193433323122017': Int64Index([1585], dtype='int64'),\n",
       " 'C00193433331332017': Int64Index([1768], dtype='int64'),\n",
       " 'C00193433331542017': Int64Index([1892], dtype='int64'),\n",
       " 'C00193433334352017': Int64Index([1888], dtype='int64'),\n",
       " 'C00193433336262017': Int64Index([1018, 1353, 1538], dtype='int64'),\n",
       " 'C00193433339752017': Int64Index([1465], dtype='int64'),\n",
       " 'C00193433496822017': Int64Index([1348], dtype='int64'),\n",
       " 'C00193433503132017': Int64Index([1111], dtype='int64'),\n",
       " 'C00193433537112017': Int64Index([1291, 1855], dtype='int64'),\n",
       " 'C00193433551162017': Int64Index([1448], dtype='int64'),\n",
       " 'C00193433615252017': Int64Index([946, 980, 981, 1026, 1534], dtype='int64'),\n",
       " 'C00193433625222017': Int64Index([1287, 1288], dtype='int64'),\n",
       " 'C00193433652032017': Int64Index([1014, 1119], dtype='int64'),\n",
       " 'C00193433703602017': Int64Index([1317], dtype='int64'),\n",
       " 'C00193433762102017': Int64Index([1737], dtype='int64'),\n",
       " 'C00193433770062017': Int64Index([993], dtype='int64'),\n",
       " 'C00193433774012017': Int64Index([1733], dtype='int64'),\n",
       " 'C00193433774592017': Int64Index([1542], dtype='int64'),\n",
       " 'C00193433786362017': Int64Index([1246], dtype='int64'),\n",
       " 'C00193433801342017': Int64Index([1833], dtype='int64'),\n",
       " 'C00193433805032017': Int64Index([1134, 1824], dtype='int64'),\n",
       " 'C00193433837022017': Int64Index([1297], dtype='int64'),\n",
       " 'C00193433855012017': Int64Index([841], dtype='int64'),\n",
       " 'C00193433857182017': Int64Index([916], dtype='int64'),\n",
       " 'C00193433863362017': Int64Index([1385, 1386], dtype='int64'),\n",
       " 'C00193433871112017': Int64Index([1104], dtype='int64'),\n",
       " 'C00193433902742017': Int64Index([1499], dtype='int64'),\n",
       " 'C00193433917022017': Int64Index([956, 1099, 1809], dtype='int64'),\n",
       " 'C00193433917552017': Int64Index([1589], dtype='int64'),\n",
       " 'C00193433921062017': Int64Index([1895], dtype='int64'),\n",
       " 'C00193433926172017': Int64Index([1541], dtype='int64'),\n",
       " 'C00193433928352017': Int64Index([1024, 1588], dtype='int64'),\n",
       " 'C00193433931052017': Int64Index([1030], dtype='int64'),\n",
       " 'C00193433933092017': Int64Index([1831], dtype='int64'),\n",
       " 'C00193433935462017': Int64Index([1345], dtype='int64'),\n",
       " 'C00193433940252017': Int64Index([966], dtype='int64'),\n",
       " 'C00193433940282017': Int64Index([1853], dtype='int64'),\n",
       " 'C00193433941142017': Int64Index([1103, 1885], dtype='int64'),\n",
       " 'C00193433941232017': Int64Index([1577, 1763, 1764], dtype='int64'),\n",
       " 'C00193433947052017': Int64Index([773], dtype='int64'),\n",
       " 'C00193433947082017': Int64Index([807, 961, 1356], dtype='int64'),\n",
       " 'C00193433953542017': Int64Index([1874], dtype='int64'),\n",
       " 'C00193433954722017': Int64Index([1551, 1572], dtype='int64'),\n",
       " 'C00193433958192017': Int64Index([1485, 1530, 1531, 1850, 1851], dtype='int64'),\n",
       " 'C00193433959262017': Int64Index([1268, 1269, 1292, 1454, 1797], dtype='int64'),\n",
       " 'C00193433968152017': Int64Index([728, 854], dtype='int64'),\n",
       " 'C00193433973332017': Int64Index([782, 1073, 1520], dtype='int64'),\n",
       " 'C00193433980332017': Int64Index([1584], dtype='int64'),\n",
       " 'C00193433981272017': Int64Index([1042, 1343, 1382], dtype='int64'),\n",
       " 'C00275529782662017': Int64Index([249], dtype='int64'),\n",
       " 'C00364778100362017': Int64Index([317, 319, 322], dtype='int64'),\n",
       " 'C00365502245032017': Int64Index([502], dtype='int64'),\n",
       " 'C00365502245512017': Int64Index([504], dtype='int64'),\n",
       " 'C00365502282772017': Int64Index([499], dtype='int64'),\n",
       " 'C00365502443332017': Int64Index([506], dtype='int64'),\n",
       " 'C00394031223012017': Int64Index([1627], dtype='int64'),\n",
       " 'C00394031940222017': Int64Index([1609], dtype='int64'),\n",
       " 'C00394031940282017': Int64Index([1629], dtype='int64'),\n",
       " 'C00394031950302017': Int64Index([1607], dtype='int64'),\n",
       " 'C00394973444252017': Int64Index([109, 110], dtype='int64'),\n",
       " 'C00415026200062017': Int64Index([296], dtype='int64'),\n",
       " 'C00610436995072017': Int64Index([208], dtype='int64')}"
      ]
     },
     "execution_count": 13,
     "metadata": {},
     "output_type": "execute_result"
    }
   ],
   "source": [
    "grouped.groups"
   ]
  },
  {
   "cell_type": "code",
   "execution_count": 152,
   "metadata": {},
   "outputs": [
    {
     "name": "stdout",
     "output_type": "stream",
     "text": [
      "944.451614868005\n"
     ]
    }
   ],
   "source": [
    "start_time = timeit.default_timer()\n",
    "\n",
    "dd = defaultdict(list)\n",
    "dataset_final = dataset_arrange.to_dict('records', into=dd)\n",
    "\n",
    "d1 = defaultdict(list)\n",
    "d2 = defaultdict(list)\n",
    "perc = 30.\n",
    "percent = perc/100.\n",
    "\n",
    "\n",
    "\n",
    "for item in dataset_final:\n",
    "    identity=item['Identity']\n",
    "    amount=item['TRANS_AMT']\n",
    "    index1=item['index1']\n",
    "    d1[identity].append(amount)\n",
    "    if len(d1[identity]) ==1:\n",
    "        perc_of_cont = amount\n",
    "        total_cont = amount\n",
    "        time_of_cont =1\n",
    "        continue\n",
    "    else:\n",
    "        ranked = sorted(d1[identity])\n",
    "        n = int(round(percent * len(d1[identity])))\n",
    "        perc_of_cont=ranked[n-1]\n",
    "        total_cont=sum(d1[identity])\n",
    "        time_of_cont=len(d1[identity])\n",
    "    \n",
    "\n",
    "    d2[index1].append(identity)\n",
    "    d2[index1].append(perc_of_cont)\n",
    "    d2[index1].append(total_cont)\n",
    "    d2[index1].append(time_of_cont)    \n",
    "    \n",
    "elapsed = timeit.default_timer() - start_time\n",
    "print (elapsed)\n",
    "\n",
    "    \n",
    "#for k, v in d1.items():       \n",
    "#    print (k,v)"
   ]
  },
  {
   "cell_type": "code",
   "execution_count": 153,
   "metadata": {
    "collapsed": true
   },
   "outputs": [],
   "source": [
    "#%timeit dataset_final.items()"
   ]
  },
  {
   "cell_type": "code",
   "execution_count": null,
   "metadata": {
    "collapsed": true
   },
   "outputs": [],
   "source": []
  },
  {
   "cell_type": "code",
   "execution_count": null,
   "metadata": {
    "collapsed": true
   },
   "outputs": [],
   "source": []
  },
  {
   "cell_type": "code",
   "execution_count": null,
   "metadata": {
    "collapsed": true
   },
   "outputs": [],
   "source": []
  },
  {
   "cell_type": "code",
   "execution_count": 154,
   "metadata": {
    "collapsed": true
   },
   "outputs": [],
   "source": [
    "# group by and sum\n",
    "# https://stackoverflow.com/questions/33823091/python-pandas-counting-the-frequency-of-a-specific-value-in-each-row-of-datafra\n",
    "# https://stackoverflow.com/questions/42446006/pandas-find-previous-row-of-matching-value\n",
    "#data_output['TRANS_AMT_PRE'] = \\\n",
    "#data_output.groupby(['CMTE_ID','ZIP_CODE','TRANS_DT'])['TRANS_AMT'].shift()\n",
    "#data_output['TRANS_AMT'] + \\\n",
    "#data_output.groupby('ZIP_CODE')['TRANS_AMT'].shift()"
   ]
  },
  {
   "cell_type": "code",
   "execution_count": 155,
   "metadata": {
    "collapsed": true
   },
   "outputs": [],
   "source": [
    "#grouped=data_output.groupby(['CMTE_ID','ZIP_CODE','TRANS_DT'])"
   ]
  },
  {
   "cell_type": "code",
   "execution_count": 156,
   "metadata": {
    "collapsed": true
   },
   "outputs": [],
   "source": [
    "#new=data_output.groupby(['CMTE_ID']).get_group('C00035006')\n",
    "#grouped.agg({'TRANS_AMT':np.sum,'TRANS_AMT': np.mean})"
   ]
  },
  {
   "cell_type": "code",
   "execution_count": 157,
   "metadata": {
    "collapsed": true
   },
   "outputs": [],
   "source": [
    "#for name, group in grouped:\n",
    "    #print(name)\n",
    "#    print(group.TRANS_AMT)"
   ]
  },
  {
   "cell_type": "code",
   "execution_count": 158,
   "metadata": {
    "collapsed": true
   },
   "outputs": [],
   "source": [
    "#grouped.bfill"
   ]
  },
  {
   "cell_type": "code",
   "execution_count": null,
   "metadata": {
    "collapsed": true
   },
   "outputs": [],
   "source": []
  },
  {
   "cell_type": "code",
   "execution_count": null,
   "metadata": {
    "collapsed": true
   },
   "outputs": [],
   "source": []
  }
 ],
 "metadata": {
  "kernelspec": {
   "display_name": "Python 3",
   "language": "python",
   "name": "python3"
  },
  "language_info": {
   "codemirror_mode": {
    "name": "ipython",
    "version": 3
   },
   "file_extension": ".py",
   "mimetype": "text/x-python",
   "name": "python",
   "nbconvert_exporter": "python",
   "pygments_lexer": "ipython3",
   "version": "3.6.3"
  }
 },
 "nbformat": 4,
 "nbformat_minor": 1
}
